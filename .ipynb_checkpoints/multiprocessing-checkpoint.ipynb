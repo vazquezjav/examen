{
 "cells": [
  {
   "cell_type": "code",
   "execution_count": 12,
   "metadata": {},
   "outputs": [],
   "source": [
    "import random\n",
    "import time\n",
    "import multiprocessing\n",
    "from multiprocessing import Process"
   ]
  },
  {
   "cell_type": "code",
   "execution_count": 21,
   "metadata": {},
   "outputs": [],
   "source": [
    "def how_many_max_values_parallel(ar):\n",
    "    maxValue = 0\n",
    "    for i in range(len(ar)):\n",
    "        if i == 0:\n",
    "            maxValue = ar[i]\n",
    "        else:\n",
    "            if ar[i] > maxValue:\n",
    "                maxValue = ar[i]\n",
    "    contValue = 0\n",
    "    for i in range(len(ar)):\n",
    "        if ar[i] == maxValue:\n",
    "            contValue += 1\n",
    "    \n",
    "    return contValue"
   ]
  },
  {
   "cell_type": "code",
   "execution_count": 24,
   "metadata": {},
   "outputs": [
    {
     "name": "stdout",
     "output_type": "stream",
     "text": [
      "Parallel Process took 43.457 ms with 4 items\n",
      "\n"
     ]
    }
   ],
   "source": [
    "if __name__ == '__main__':\n",
    "    ar_count = 4\n",
    "    ar = [1,3,3,4]\n",
    "    inicioPar = time.time()\n",
    "    inicio=0\n",
    "    resultPar=0\n",
    "    salto= 1\n",
    "    for i in range(multiprocessing.cpu_count()):\n",
    "        ret = multiprocessing.Value(\"i\",0)\n",
    "        process =multiprocessing.Process(target=how_many_max_values_parallel,args=(ar[inicio:salto],))\n",
    "        process.start()\n",
    "        process.join()\n",
    "        inicio=salto\n",
    "        salto+=salto+10000000\n",
    "        resultPar =resultPar+ret.value\n",
    "    finPar = time.time()   \n",
    "    print('Parallel Process took %.3f ms with %d items\\n' % ((finPar - inicioPar)*1000, ar_count))"
   ]
  },
  {
   "cell_type": "code",
   "execution_count": 25,
   "metadata": {},
   "outputs": [
    {
     "data": {
      "text/plain": [
       "0"
      ]
     },
     "execution_count": 25,
     "metadata": {},
     "output_type": "execute_result"
    }
   ],
   "source": [
    "resultPar"
   ]
  },
  {
   "cell_type": "code",
   "execution_count": 3,
   "metadata": {},
   "outputs": [],
   "source": [
    "for i in range(len(ar)):\n",
    "        if i == 0:\n",
    "            maxValue = ar[i]\n",
    "        else:\n",
    "            if ar[i] > maxValue:\n",
    "                maxValue = ar[i]"
   ]
  },
  {
   "cell_type": "code",
   "execution_count": 5,
   "metadata": {},
   "outputs": [
    {
     "data": {
      "text/plain": [
       "30"
      ]
     },
     "execution_count": 5,
     "metadata": {},
     "output_type": "execute_result"
    }
   ],
   "source": [
    "max(ar)"
   ]
  },
  {
   "cell_type": "code",
   "execution_count": null,
   "metadata": {},
   "outputs": [],
   "source": []
  }
 ],
 "metadata": {
  "kernelspec": {
   "display_name": "Python 3",
   "language": "python",
   "name": "python3"
  },
  "language_info": {
   "codemirror_mode": {
    "name": "ipython",
    "version": 3
   },
   "file_extension": ".py",
   "mimetype": "text/x-python",
   "name": "python",
   "nbconvert_exporter": "python",
   "pygments_lexer": "ipython3",
   "version": "3.7.3"
  }
 },
 "nbformat": 4,
 "nbformat_minor": 4
}
