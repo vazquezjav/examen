{
 "cells": [
  {
   "cell_type": "code",
   "execution_count": 1,
   "metadata": {},
   "outputs": [],
   "source": [
    "import random\n",
    "import time"
   ]
  },
  {
   "cell_type": "code",
   "execution_count": 4,
   "metadata": {},
   "outputs": [],
   "source": [
    "def how_many_max_values_sequential(ar):\n",
    "    maxValue = 0\n",
    "    for i in range(len(ar)):\n",
    "        if i == 0:\n",
    "            maxValue = ar[i]\n",
    "        else:\n",
    "            if ar[i] > maxValue:\n",
    "                maxValue = ar[i]\n",
    "    contValue = 0\n",
    "    for i in range(len(ar)):\n",
    "        if ar[i] == maxValue:\n",
    "            contValue += 1\n",
    "    \n",
    "    return contValue"
   ]
  },
  {
   "cell_type": "code",
   "execution_count": null,
   "metadata": {},
   "outputs": [],
   "source": []
  }
 ],
 "metadata": {
  "kernelspec": {
   "display_name": "Python 3",
   "language": "python",
   "name": "python3"
  },
  "language_info": {
   "codemirror_mode": {
    "name": "ipython",
    "version": 3
   },
   "file_extension": ".py",
   "mimetype": "text/x-python",
   "name": "python",
   "nbconvert_exporter": "python",
   "pygments_lexer": "ipython3",
   "version": "3.7.3"
  }
 },
 "nbformat": 4,
 "nbformat_minor": 4
}
