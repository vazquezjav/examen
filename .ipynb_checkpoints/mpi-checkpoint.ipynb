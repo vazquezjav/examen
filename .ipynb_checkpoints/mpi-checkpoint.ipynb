{
 "cells": [
  {
   "cell_type": "code",
   "execution_count": 1,
   "metadata": {},
   "outputs": [],
   "source": [
    "from mpi4py import MPI\n",
    "import numpy as np\n",
    "import time"
   ]
  },
  {
   "cell_type": "code",
   "execution_count": 2,
   "metadata": {},
   "outputs": [],
   "source": [
    "def how_many_max_values_parallel(ar):\n",
    "    comm  = MPI.COMM_WORLD\n",
    "    numtasks=comm.size\n",
    "    rank = comm.rank\n",
    "    maxValue = 0\n",
    "    for i in range(len(ar)):\n",
    "        if i == 0:\n",
    "            maxValue = ar[i]\n",
    "        else:\n",
    "            if ar[i] > maxValue:\n",
    "                maxValue = ar[i]\n",
    "    contValue = 0\n",
    "    for i in range(len(ar)):\n",
    "        if ar[i] == maxValue:\n",
    "            contValue += 1\n",
    "    \n",
    "    return contValue"
   ]
  },
  {
   "cell_type": "code",
   "execution_count": null,
   "metadata": {},
   "outputs": [],
   "source": [
    "if __name__ == '__main__':\n",
    "    ar_count = 400\n",
    "    #ar = [4,4,3,1,30]\n",
    "    ar = [random.randrange(1,30) for i in range(ar_count)]\n",
    "    inicioSec = time.time()\n",
    "    resultSec = how_many_max_values_sequential(ar)\n",
    "    finSec =  (time.time()-inicioSec)*1000\n",
    "    inicioPar = time.time()\n",
    "    resultPar= how_many_max_values_parallel(ar)"
   ]
  }
 ],
 "metadata": {
  "kernelspec": {
   "display_name": "Python 3",
   "language": "python",
   "name": "python3"
  },
  "language_info": {
   "codemirror_mode": {
    "name": "ipython",
    "version": 3
   },
   "file_extension": ".py",
   "mimetype": "text/x-python",
   "name": "python",
   "nbconvert_exporter": "python",
   "pygments_lexer": "ipython3",
   "version": "3.7.3"
  }
 },
 "nbformat": 4,
 "nbformat_minor": 4
}
