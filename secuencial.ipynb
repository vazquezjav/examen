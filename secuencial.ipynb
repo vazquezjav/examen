{
 "cells": [
  {
   "cell_type": "code",
   "execution_count": 2,
   "metadata": {},
   "outputs": [],
   "source": [
    "import random\n",
    "import time\n",
    "import multiprocessing"
   ]
  },
  {
   "cell_type": "code",
   "execution_count": 4,
   "metadata": {},
   "outputs": [],
   "source": [
    "def how_many_max_values_sequential(ar):\n",
    "    maxValue = 0\n",
    "    for i in range(len(ar)):\n",
    "        if i == 0:\n",
    "            maxValue = ar[i]\n",
    "        else:\n",
    "            if ar[i] > maxValue:\n",
    "                maxValue = ar[i]\n",
    "    contValue = 0\n",
    "    for i in range(len(ar)):\n",
    "        if ar[i] == maxValue:\n",
    "            contValue += 1\n",
    "    \n",
    "    return contValue"
   ]
  },
  {
   "cell_type": "code",
   "execution_count": 5,
   "metadata": {},
   "outputs": [],
   "source": [
    "def how_many_max_values_parallel(val):\n",
    "    maxValue = 0\n",
    "    for i in range(len(ar)):\n",
    "        if i == 0:\n",
    "            maxValue = ar[i]\n",
    "        else:\n",
    "            if ar[i] > maxValue:\n",
    "                maxValue = ar[i]\n",
    "    contValue = 0\n",
    "    for i in range(len(ar)):\n",
    "        if ar[i] == maxValue:\n",
    "            contValue += 1\n",
    "    \n",
    "    return contValue"
   ]
  },
  {
   "cell_type": "code",
   "execution_count": 6,
   "metadata": {},
   "outputs": [
    {
     "name": "stdout",
     "output_type": "stream",
     "text": [
      "Parallel Process took 50.726 ms with 400 items\n",
      "\n",
      "Results are incorrect!\n",
      "\n",
      "Sequential Process took 0.060 ms with 400 items\n",
      "\n",
      "Parallel Process took 51.636 ms with 400 items\n",
      "\n",
      "Results are correct!\n",
      "\n"
     ]
    }
   ],
   "source": [
    "if __name__ == '__main__':\n",
    "    ar_count = 40\n",
    "    #ar = [4,4,3,1,30]\n",
    "    ar = [random.randrange(1,30) for i in range(ar_count)]\n",
    "    inicioSec = time.time()\n",
    "    resultSec = how_many_max_values_sequential(ar)\n",
    "    finSec =  (time.time()-inicioSec)*1000\n",
    "    inicioPar = time.time()   \n",
    "    pool      = multiprocessing.Pool(processes=4)\n",
    "    resultPar = pool.map(how_many_max_values_parallel,ar)\n",
    "    finPar = (time.time()-inicioPar)*1000\n",
    "    print('Results are correct!\\n' if resultPar == resultSec else 'Results are incorrect!\\n')\n",
    "\n",
    "    print('Sequential Process took %.3f ms with %d items\\n' % (finSec, ar_count))\n",
    "\n",
    "    print('Parallel Process took %.3f ms with %d items\\n' % (finPar, ar_count))\n",
    "    print('Results are correct!\\n' if finPar > finSec else 'Results are incorrect!\\n')"
   ]
  },
  {
   "cell_type": "code",
   "execution_count": 26,
   "metadata": {},
   "outputs": [
    {
     "data": {
      "text/plain": [
       "15"
      ]
     },
     "execution_count": 26,
     "metadata": {},
     "output_type": "execute_result"
    }
   ],
   "source": [
    "resultSec"
   ]
  },
  {
   "cell_type": "code",
   "execution_count": 27,
   "metadata": {},
   "outputs": [
    {
     "data": {
      "text/plain": [
       "15"
      ]
     },
     "execution_count": 27,
     "metadata": {},
     "output_type": "execute_result"
    }
   ],
   "source": [
    "resultPar"
   ]
  },
  {
   "cell_type": "code",
   "execution_count": null,
   "metadata": {},
   "outputs": [],
   "source": []
  }
 ],
 "metadata": {
  "kernelspec": {
   "display_name": "Python 3",
   "language": "python",
   "name": "python3"
  },
  "language_info": {
   "codemirror_mode": {
    "name": "ipython",
    "version": 3
   },
   "file_extension": ".py",
   "mimetype": "text/x-python",
   "name": "python",
   "nbconvert_exporter": "python",
   "pygments_lexer": "ipython3",
   "version": "3.7.3"
  }
 },
 "nbformat": 4,
 "nbformat_minor": 4
}
