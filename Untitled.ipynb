{
 "cells": [
  {
   "cell_type": "code",
   "execution_count": 1,
   "metadata": {},
   "outputs": [],
   "source": [
    "import random\n",
    "import time"
   ]
  },
  {
   "cell_type": "code",
   "execution_count": 4,
   "metadata": {},
   "outputs": [],
   "source": [
    "def how_many_max_values_sequential(ar):\n",
    "    maxValue = 0\n",
    "    for i in range(len(ar)):\n",
    "        if i == 0:\n",
    "            maxValue = ar[i]\n",
    "        else:\n",
    "            if ar[i] > maxValue:\n",
    "                maxValue = ar[i]\n",
    "    contValue = 0\n",
    "    for i in range(len(ar)):\n",
    "        if ar[i] == maxValue:\n",
    "            contValue += 1\n",
    "    \n",
    "    return contValue"
   ]
  },
  {
   "cell_type": "code",
   "execution_count": 5,
   "metadata": {},
   "outputs": [],
   "source": [
    "def how_many_max_values_parallel(ar):\n",
    "    return 0"
   ]
  },
  {
   "cell_type": "code",
   "execution_count": 8,
   "metadata": {},
   "outputs": [
    {
     "name": "stdout",
     "output_type": "stream",
     "text": [
      "Results are incorrect!\n",
      "\n",
      "Sequential Process took 5836.034 ms with 40000000 items\n",
      "\n"
     ]
    }
   ],
   "source": [
    "if __name__ == '__main__':\n",
    "    ar_count = 40000000\n",
    "    ar = [random.randrange(1,30) for i in range(ar_count)]\n",
    "    inicioSec = time.time()\n",
    "    resultSec = how_many_max_values_sequential(ar)\n",
    "    finSec =  time.time()\n",
    "    inicioPar = time.time()   \n",
    "    resultPar = how_many_max_values_parallel(ar)\n",
    "    finPar = time.time()   \n",
    "    print('Results are correct!\\n' if resultSec == resultPar else 'Results are incorrect!\\n')\n",
    "\n",
    "    print('Sequential Process took %.3f ms with %d items\\n' % ((finSec - inicioSec)*1000, ar_count))\n",
    "\n",
    "    #print(Parallel Process took %.3f ms with %d items\\n' % ((finPar - inicioPar)*1000, ar_count))"
   ]
  },
  {
   "cell_type": "code",
   "execution_count": null,
   "metadata": {},
   "outputs": [],
   "source": []
  }
 ],
 "metadata": {
  "kernelspec": {
   "display_name": "Python 3",
   "language": "python",
   "name": "python3"
  },
  "language_info": {
   "codemirror_mode": {
    "name": "ipython",
    "version": 3
   },
   "file_extension": ".py",
   "mimetype": "text/x-python",
   "name": "python",
   "nbconvert_exporter": "python",
   "pygments_lexer": "ipython3",
   "version": "3.7.3"
  }
 },
 "nbformat": 4,
 "nbformat_minor": 4
}
