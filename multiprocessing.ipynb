{
 "cells": [
  {
   "cell_type": "code",
   "execution_count": 10,
   "metadata": {},
   "outputs": [],
   "source": [
    "import random\n",
    "import time\n",
    "import multiprocessing"
   ]
  },
  {
   "cell_type": "code",
   "execution_count": 11,
   "metadata": {},
   "outputs": [],
   "source": [
    "def how_many_max_values_parallel(val):\n",
    "    global ar\n",
    "    for i in range(len(ar)):\n",
    "        if i == 0:\n",
    "            maxValue = ar[i]\n",
    "        else:\n",
    "            if ar[i] > maxValue:\n",
    "                maxValue = ar[i]\n",
    "    contValue = 0\n",
    "    if val == maxValue:\n",
    "        return 1\n",
    "    else:\n",
    "        return 0\n",
    "result_list = []\n",
    "def log_result(result):\n",
    "    result_list.append(result)"
   ]
  },
  {
   "cell_type": "code",
   "execution_count": 17,
   "metadata": {},
   "outputs": [
    {
     "ename": "SyntaxError",
     "evalue": "invalid syntax (<ipython-input-17-b0ab0989ba22>, line 7)",
     "output_type": "error",
     "traceback": [
      "\u001b[0;36m  File \u001b[0;32m\"<ipython-input-17-b0ab0989ba22>\"\u001b[0;36m, line \u001b[0;32m7\u001b[0m\n\u001b[0;31m    pool.close()\u001b[0m\n\u001b[0m       ^\u001b[0m\n\u001b[0;31mSyntaxError\u001b[0m\u001b[0;31m:\u001b[0m invalid syntax\n"
     ]
    }
   ],
   "source": [
    "if __name__ == '__main__':\n",
    "    ar_count = 4\n",
    "    ar = [4,4,3,1,30]\n",
    "    inicioPar = time.time()\n",
    "    pool                    = multiprocessing.Pool(processes=4)\n",
    "    resultPar = sum(list(pool.map(how_many_max_values_parallel,ar))\n",
    "    pool.close() \n",
    "    pool.join()\n",
    "    finPar = time.time()   \n",
    "    #print(Parallel Process took %.3f ms with %d items\\n' % ((finPar - inicioPar)*1000, ar_count))"
   ]
  },
  {
   "cell_type": "code",
   "execution_count": 16,
   "metadata": {},
   "outputs": [
    {
     "data": {
      "text/plain": [
       "[0, 0]"
      ]
     },
     "execution_count": 16,
     "metadata": {},
     "output_type": "execute_result"
    }
   ],
   "source": [
    "result_list"
   ]
  },
  {
   "cell_type": "code",
   "execution_count": 3,
   "metadata": {},
   "outputs": [],
   "source": [
    "for i in range(len(ar)):\n",
    "        if i == 0:\n",
    "            maxValue = ar[i]\n",
    "        else:\n",
    "            if ar[i] > maxValue:\n",
    "                maxValue = ar[i]"
   ]
  },
  {
   "cell_type": "code",
   "execution_count": 5,
   "metadata": {},
   "outputs": [
    {
     "data": {
      "text/plain": [
       "30"
      ]
     },
     "execution_count": 5,
     "metadata": {},
     "output_type": "execute_result"
    }
   ],
   "source": [
    "max(ar)"
   ]
  },
  {
   "cell_type": "code",
   "execution_count": null,
   "metadata": {},
   "outputs": [],
   "source": []
  }
 ],
 "metadata": {
  "kernelspec": {
   "display_name": "Python 3",
   "language": "python",
   "name": "python3"
  },
  "language_info": {
   "codemirror_mode": {
    "name": "ipython",
    "version": 3
   },
   "file_extension": ".py",
   "mimetype": "text/x-python",
   "name": "python",
   "nbconvert_exporter": "python",
   "pygments_lexer": "ipython3",
   "version": "3.7.3"
  }
 },
 "nbformat": 4,
 "nbformat_minor": 4
}
